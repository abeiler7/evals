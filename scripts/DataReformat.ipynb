{
 "cells": [
  {
   "cell_type": "markdown",
   "metadata": {},
   "source": [
    "# Reformat BIG-bench Data to OpenAI Eval Framework"
   ]
  },
  {
   "cell_type": "code",
   "execution_count": null,
   "metadata": {},
   "outputs": [],
   "source": [
    "! pip install jsonlines"
   ]
  },
  {
   "cell_type": "markdown",
   "metadata": {},
   "source": [
    "## Loop Through List of Tasks"
   ]
  },
  {
   "cell_type": "code",
   "execution_count": 38,
   "metadata": {},
   "outputs": [],
   "source": [
    "\n",
    "task_list = [ \"1_digit_subtraction\", \"2_digit_multiplication\", \"3_digit_division\", \"4_digit_addition\", \"4_digit_subtraction\", \"5_digit_multiplication\", \"1_digit_division\", \"2_digit_addition\",\n",
    "         \"2_digit_subtraction\", \"3_digit_multiplication\", \"4_digit_division\", \"5_digit_addition\", \"5_digit_subtraction\", \"1_digit_multiplication\", \"2_digit_division\", \"3_digit_addition\", \"3_digit_subtraction\",\n",
    "         \"4_digit_multiplication\", \"5_digit_division\"]\n",
    " \n",
    "#\"1_digit_addition\","
   ]
  },
  {
   "cell_type": "code",
   "execution_count": 39,
   "metadata": {},
   "outputs": [],
   "source": [
    "import json\n",
    "import BIG_bench_data_formatter\n",
    "import importlib\n",
    "importlib.reload(BIG_bench_data_formatter)\n",
    "import jsonlines\n",
    "\n",
    "for task in task_list:\n",
    "    input_json = \"/Users/andrewbeiler/projects/BIG-bench/bigbench/benchmark_tasks/arithmetic/\" + task + \"/task.json\"\n",
    "    output_jsonl = \"/Users/andrewbeiler/projects/evals/evals/registry/data/big-bench-arithmetic/\" + task + \".jsonl\"\n",
    "\n",
    "    # Read Input JSON File into Dict\n",
    "    f = open(input_json)\n",
    "    input_data = json.load(f)\n",
    "\n",
    "    # Reformat Data\n",
    "    output_data = BIG_bench_data_formatter.to_openai_eval_format(input_data)\n",
    "\n",
    "    with jsonlines.open(output_jsonl, mode='w') as writer:\n",
    "        writer.write_all(output_data)"
   ]
  },
  {
   "cell_type": "code",
   "execution_count": 45,
   "metadata": {},
   "outputs": [],
   "source": [
    "full_yaml = []\n",
    "for task in task_list:\n",
    "    yaml_content = f'''bb-arithmetic-{task}:\n",
    "    id: arithmetic-{task}.dev.match-v1\n",
    "    metrics: [accuracy]\n",
    "    description: Evaluate arithmetic ability on {task}\n",
    "arithmetic-{task}.dev.match-v1:\n",
    "    class: evals.elsuite.bb-arithmetic:BBArithmetic\n",
    "    args:\n",
    "        test_jsonl: big-bench-arithmetic/{task}.jsonl'''\n",
    "    full_yaml.append(yaml_content)\n",
    "\n",
    "with jsonlines.open(\"tmp_yaml.jsonl\", mode='w') as writer:\n",
    "        writer.write_all(full_yaml)"
   ]
  },
  {
   "cell_type": "code",
   "execution_count": null,
   "metadata": {},
   "outputs": [],
   "source": [
    "for task in task_list:\n",
    "    yaml_content = f\"bb-arithmetic-{task}\"\n",
    "    full_yaml.append(yaml_content)\n",
    "\n",
    "with jsonlines.open(\"tmp_yaml.jsonl\", mode='w') as writer:\n",
    "        writer.write_all(full_yaml)"
   ]
  },
  {
   "cell_type": "markdown",
   "metadata": {},
   "source": [
    "## Single Task"
   ]
  },
  {
   "cell_type": "code",
   "execution_count": null,
   "metadata": {},
   "outputs": [],
   "source": [
    "task = \"1_digit_addition\"\n",
    "\n",
    "input_json = \"/Users/andrewbeiler/projects/BIG-bench/bigbench/benchmark_tasks/arithmetic/\" + task + \"/task.json\"\n",
    "output_jsonl = \"/Users/andrewbeiler/projects/evals/evals/registry/data/big-bench-arithmetic/\" + task + \".jsonl\""
   ]
  },
  {
   "cell_type": "code",
   "execution_count": 23,
   "metadata": {},
   "outputs": [],
   "source": [
    "import json\n",
    "\n",
    "# Read Input JSON File into Dict\n",
    "f = open(input_json)\n",
    "input_data = json.load(f)"
   ]
  },
  {
   "cell_type": "code",
   "execution_count": 32,
   "metadata": {},
   "outputs": [],
   "source": [
    "import BIG_bench_data_formatter\n",
    "import importlib\n",
    "importlib.reload(BIG_bench_data_formatter)\n",
    "\n",
    "\n",
    "# Reformat Data\n",
    "output_data = BIG_bench_data_formatter.to_openai_eval_format(input_data)"
   ]
  },
  {
   "cell_type": "code",
   "execution_count": 33,
   "metadata": {},
   "outputs": [
    {
     "name": "stdout",
     "output_type": "stream",
     "text": [
      "[{'input': [{'role': 'user', 'content': 'What is 0 plus 0?'}], 'ideal': '0'}, {'input': [{'role': 'user', 'content': 'What is 0 plus 1?'}], 'ideal': '1'}, {'input': [{'role': 'user', 'content': 'What is 0 plus 2?'}], 'ideal': '2'}, {'input': [{'role': 'user', 'content': 'What is 0 plus 3?'}], 'ideal': '3'}, {'input': [{'role': 'user', 'content': 'What is 0 plus 4?'}], 'ideal': '4'}, {'input': [{'role': 'user', 'content': 'What is 0 plus 5?'}], 'ideal': '5'}, {'input': [{'role': 'user', 'content': 'What is 0 plus 6?'}], 'ideal': '6'}, {'input': [{'role': 'user', 'content': 'What is 0 plus 7?'}], 'ideal': '7'}, {'input': [{'role': 'user', 'content': 'What is 0 plus 8?'}], 'ideal': '8'}, {'input': [{'role': 'user', 'content': 'What is 0 plus 9?'}], 'ideal': '9'}, {'input': [{'role': 'user', 'content': 'What is 1 plus 0?'}], 'ideal': '1'}, {'input': [{'role': 'user', 'content': 'What is 1 plus 1?'}], 'ideal': '2'}, {'input': [{'role': 'user', 'content': 'What is 1 plus 2?'}], 'ideal': '3'}, {'input': [{'role': 'user', 'content': 'What is 1 plus 3?'}], 'ideal': '4'}, {'input': [{'role': 'user', 'content': 'What is 1 plus 4?'}], 'ideal': '5'}, {'input': [{'role': 'user', 'content': 'What is 1 plus 5?'}], 'ideal': '6'}, {'input': [{'role': 'user', 'content': 'What is 1 plus 6?'}], 'ideal': '7'}, {'input': [{'role': 'user', 'content': 'What is 1 plus 7?'}], 'ideal': '8'}, {'input': [{'role': 'user', 'content': 'What is 1 plus 8?'}], 'ideal': '9'}, {'input': [{'role': 'user', 'content': 'What is 1 plus 9?'}], 'ideal': '10'}, {'input': [{'role': 'user', 'content': 'What is 2 plus 0?'}], 'ideal': '2'}, {'input': [{'role': 'user', 'content': 'What is 2 plus 1?'}], 'ideal': '3'}, {'input': [{'role': 'user', 'content': 'What is 2 plus 2?'}], 'ideal': '4'}, {'input': [{'role': 'user', 'content': 'What is 2 plus 3?'}], 'ideal': '5'}, {'input': [{'role': 'user', 'content': 'What is 2 plus 4?'}], 'ideal': '6'}, {'input': [{'role': 'user', 'content': 'What is 2 plus 5?'}], 'ideal': '7'}, {'input': [{'role': 'user', 'content': 'What is 2 plus 6?'}], 'ideal': '8'}, {'input': [{'role': 'user', 'content': 'What is 2 plus 7?'}], 'ideal': '9'}, {'input': [{'role': 'user', 'content': 'What is 2 plus 8?'}], 'ideal': '10'}, {'input': [{'role': 'user', 'content': 'What is 2 plus 9?'}], 'ideal': '11'}, {'input': [{'role': 'user', 'content': 'What is 3 plus 0?'}], 'ideal': '3'}, {'input': [{'role': 'user', 'content': 'What is 3 plus 1?'}], 'ideal': '4'}, {'input': [{'role': 'user', 'content': 'What is 3 plus 2?'}], 'ideal': '5'}, {'input': [{'role': 'user', 'content': 'What is 3 plus 3?'}], 'ideal': '6'}, {'input': [{'role': 'user', 'content': 'What is 3 plus 4?'}], 'ideal': '7'}, {'input': [{'role': 'user', 'content': 'What is 3 plus 5?'}], 'ideal': '8'}, {'input': [{'role': 'user', 'content': 'What is 3 plus 6?'}], 'ideal': '9'}, {'input': [{'role': 'user', 'content': 'What is 3 plus 7?'}], 'ideal': '10'}, {'input': [{'role': 'user', 'content': 'What is 3 plus 8?'}], 'ideal': '11'}, {'input': [{'role': 'user', 'content': 'What is 3 plus 9?'}], 'ideal': '12'}, {'input': [{'role': 'user', 'content': 'What is 4 plus 0?'}], 'ideal': '4'}, {'input': [{'role': 'user', 'content': 'What is 4 plus 1?'}], 'ideal': '5'}, {'input': [{'role': 'user', 'content': 'What is 4 plus 2?'}], 'ideal': '6'}, {'input': [{'role': 'user', 'content': 'What is 4 plus 3?'}], 'ideal': '7'}, {'input': [{'role': 'user', 'content': 'What is 4 plus 4?'}], 'ideal': '8'}, {'input': [{'role': 'user', 'content': 'What is 4 plus 5?'}], 'ideal': '9'}, {'input': [{'role': 'user', 'content': 'What is 4 plus 6?'}], 'ideal': '10'}, {'input': [{'role': 'user', 'content': 'What is 4 plus 7?'}], 'ideal': '11'}, {'input': [{'role': 'user', 'content': 'What is 4 plus 8?'}], 'ideal': '12'}, {'input': [{'role': 'user', 'content': 'What is 4 plus 9?'}], 'ideal': '13'}, {'input': [{'role': 'user', 'content': 'What is 5 plus 0?'}], 'ideal': '5'}, {'input': [{'role': 'user', 'content': 'What is 5 plus 1?'}], 'ideal': '6'}, {'input': [{'role': 'user', 'content': 'What is 5 plus 2?'}], 'ideal': '7'}, {'input': [{'role': 'user', 'content': 'What is 5 plus 3?'}], 'ideal': '8'}, {'input': [{'role': 'user', 'content': 'What is 5 plus 4?'}], 'ideal': '9'}, {'input': [{'role': 'user', 'content': 'What is 5 plus 5?'}], 'ideal': '10'}, {'input': [{'role': 'user', 'content': 'What is 5 plus 6?'}], 'ideal': '11'}, {'input': [{'role': 'user', 'content': 'What is 5 plus 7?'}], 'ideal': '12'}, {'input': [{'role': 'user', 'content': 'What is 5 plus 8?'}], 'ideal': '13'}, {'input': [{'role': 'user', 'content': 'What is 5 plus 9?'}], 'ideal': '14'}, {'input': [{'role': 'user', 'content': 'What is 6 plus 0?'}], 'ideal': '6'}, {'input': [{'role': 'user', 'content': 'What is 6 plus 1?'}], 'ideal': '7'}, {'input': [{'role': 'user', 'content': 'What is 6 plus 2?'}], 'ideal': '8'}, {'input': [{'role': 'user', 'content': 'What is 6 plus 3?'}], 'ideal': '9'}, {'input': [{'role': 'user', 'content': 'What is 6 plus 4?'}], 'ideal': '10'}, {'input': [{'role': 'user', 'content': 'What is 6 plus 5?'}], 'ideal': '11'}, {'input': [{'role': 'user', 'content': 'What is 6 plus 6?'}], 'ideal': '12'}, {'input': [{'role': 'user', 'content': 'What is 6 plus 7?'}], 'ideal': '13'}, {'input': [{'role': 'user', 'content': 'What is 6 plus 8?'}], 'ideal': '14'}, {'input': [{'role': 'user', 'content': 'What is 6 plus 9?'}], 'ideal': '15'}, {'input': [{'role': 'user', 'content': 'What is 7 plus 0?'}], 'ideal': '7'}, {'input': [{'role': 'user', 'content': 'What is 7 plus 1?'}], 'ideal': '8'}, {'input': [{'role': 'user', 'content': 'What is 7 plus 2?'}], 'ideal': '9'}, {'input': [{'role': 'user', 'content': 'What is 7 plus 3?'}], 'ideal': '10'}, {'input': [{'role': 'user', 'content': 'What is 7 plus 4?'}], 'ideal': '11'}, {'input': [{'role': 'user', 'content': 'What is 7 plus 5?'}], 'ideal': '12'}, {'input': [{'role': 'user', 'content': 'What is 7 plus 6?'}], 'ideal': '13'}, {'input': [{'role': 'user', 'content': 'What is 7 plus 7?'}], 'ideal': '14'}, {'input': [{'role': 'user', 'content': 'What is 7 plus 8?'}], 'ideal': '15'}, {'input': [{'role': 'user', 'content': 'What is 7 plus 9?'}], 'ideal': '16'}, {'input': [{'role': 'user', 'content': 'What is 8 plus 0?'}], 'ideal': '8'}, {'input': [{'role': 'user', 'content': 'What is 8 plus 1?'}], 'ideal': '9'}, {'input': [{'role': 'user', 'content': 'What is 8 plus 2?'}], 'ideal': '10'}, {'input': [{'role': 'user', 'content': 'What is 8 plus 3?'}], 'ideal': '11'}, {'input': [{'role': 'user', 'content': 'What is 8 plus 4?'}], 'ideal': '12'}, {'input': [{'role': 'user', 'content': 'What is 8 plus 5?'}], 'ideal': '13'}, {'input': [{'role': 'user', 'content': 'What is 8 plus 6?'}], 'ideal': '14'}, {'input': [{'role': 'user', 'content': 'What is 8 plus 7?'}], 'ideal': '15'}, {'input': [{'role': 'user', 'content': 'What is 8 plus 8?'}], 'ideal': '16'}, {'input': [{'role': 'user', 'content': 'What is 8 plus 9?'}], 'ideal': '17'}, {'input': [{'role': 'user', 'content': 'What is 9 plus 0?'}], 'ideal': '9'}, {'input': [{'role': 'user', 'content': 'What is 9 plus 1?'}], 'ideal': '10'}, {'input': [{'role': 'user', 'content': 'What is 9 plus 2?'}], 'ideal': '11'}, {'input': [{'role': 'user', 'content': 'What is 9 plus 3?'}], 'ideal': '12'}, {'input': [{'role': 'user', 'content': 'What is 9 plus 4?'}], 'ideal': '13'}, {'input': [{'role': 'user', 'content': 'What is 9 plus 5?'}], 'ideal': '14'}, {'input': [{'role': 'user', 'content': 'What is 9 plus 6?'}], 'ideal': '15'}, {'input': [{'role': 'user', 'content': 'What is 9 plus 7?'}], 'ideal': '16'}, {'input': [{'role': 'user', 'content': 'What is 9 plus 8?'}], 'ideal': '17'}, {'input': [{'role': 'user', 'content': 'What is 9 plus 9?'}], 'ideal': '18'}]\n"
     ]
    }
   ],
   "source": [
    "print(output_data)"
   ]
  },
  {
   "cell_type": "code",
   "execution_count": 37,
   "metadata": {},
   "outputs": [],
   "source": [
    "import jsonlines\n",
    "\n",
    "with jsonlines.open(output_jsonl, mode='w') as writer:\n",
    "    writer.write_all(output_data)"
   ]
  }
 ],
 "metadata": {
  "kernelspec": {
   "display_name": "Python 3",
   "language": "python",
   "name": "python3"
  },
  "language_info": {
   "codemirror_mode": {
    "name": "ipython",
    "version": 3
   },
   "file_extension": ".py",
   "mimetype": "text/x-python",
   "name": "python",
   "nbconvert_exporter": "python",
   "pygments_lexer": "ipython3",
   "version": "3.10.12"
  },
  "orig_nbformat": 4
 },
 "nbformat": 4,
 "nbformat_minor": 2
}
